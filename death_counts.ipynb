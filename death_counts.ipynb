{
 "cells": [
  {
   "cell_type": "code",
   "execution_count": 641,
   "metadata": {},
   "outputs": [],
   "source": [
    "import requests\n",
    "import pandas as pd"
   ]
  },
  {
   "cell_type": "code",
   "execution_count": 642,
   "metadata": {},
   "outputs": [],
   "source": [
    "limit = 10000000"
   ]
  },
  {
   "cell_type": "code",
   "execution_count": 643,
   "metadata": {},
   "outputs": [],
   "source": [
    "url = f'https://data.cdc.gov/resource/u6jv-9ijr.json?$limit={limit}'"
   ]
  },
  {
   "cell_type": "code",
   "execution_count": 644,
   "metadata": {},
   "outputs": [
    {
     "data": {
      "text/plain": [
       "<Response [200]>"
      ]
     },
     "execution_count": 644,
     "metadata": {},
     "output_type": "execute_result"
    }
   ],
   "source": [
    "data = requests.get(url)\n",
    "data"
   ]
  },
  {
   "cell_type": "code",
   "execution_count": 645,
   "metadata": {},
   "outputs": [],
   "source": [
    "data = data.json()"
   ]
  },
  {
   "cell_type": "code",
   "execution_count": 646,
   "metadata": {},
   "outputs": [
    {
     "data": {
      "text/html": [
       "<div>\n",
       "<style scoped>\n",
       "    .dataframe tbody tr th:only-of-type {\n",
       "        vertical-align: middle;\n",
       "    }\n",
       "\n",
       "    .dataframe tbody tr th {\n",
       "        vertical-align: top;\n",
       "    }\n",
       "\n",
       "    .dataframe thead th {\n",
       "        text-align: right;\n",
       "    }\n",
       "</style>\n",
       "<table border=\"1\" class=\"dataframe\">\n",
       "  <thead>\n",
       "    <tr style=\"text-align: right;\">\n",
       "      <th></th>\n",
       "      <th>jurisdiction</th>\n",
       "      <th>week_ending_date</th>\n",
       "      <th>state_abbreviation</th>\n",
       "      <th>mmwryear</th>\n",
       "      <th>mmwrweek</th>\n",
       "      <th>cause_group</th>\n",
       "      <th>number_of_deaths</th>\n",
       "      <th>cause_subgroup</th>\n",
       "      <th>time_period</th>\n",
       "      <th>average_number_of_deaths</th>\n",
       "      <th>type</th>\n",
       "      <th>difference_from_2015_2019_to_2020</th>\n",
       "      <th>percent_difference_from_15_19_to_20</th>\n",
       "      <th>note</th>\n",
       "    </tr>\n",
       "  </thead>\n",
       "  <tbody>\n",
       "    <tr>\n",
       "      <th>0</th>\n",
       "      <td>New Jersey</td>\n",
       "      <td>2018-02-03T00:00:00.000</td>\n",
       "      <td>NJ</td>\n",
       "      <td>2018</td>\n",
       "      <td>5</td>\n",
       "      <td>Other select causes</td>\n",
       "      <td>49</td>\n",
       "      <td>Sepsis</td>\n",
       "      <td>2015-2019</td>\n",
       "      <td>42</td>\n",
       "      <td>Predicted (weighted)</td>\n",
       "      <td>NaN</td>\n",
       "      <td>NaN</td>\n",
       "      <td>NaN</td>\n",
       "    </tr>\n",
       "    <tr>\n",
       "      <th>1</th>\n",
       "      <td>Alabama</td>\n",
       "      <td>2015-01-10T00:00:00.000</td>\n",
       "      <td>AL</td>\n",
       "      <td>2015</td>\n",
       "      <td>1</td>\n",
       "      <td>Other select causes</td>\n",
       "      <td>22</td>\n",
       "      <td>Sepsis</td>\n",
       "      <td>2015-2019</td>\n",
       "      <td>24</td>\n",
       "      <td>Predicted (weighted)</td>\n",
       "      <td>NaN</td>\n",
       "      <td>NaN</td>\n",
       "      <td>NaN</td>\n",
       "    </tr>\n",
       "    <tr>\n",
       "      <th>2</th>\n",
       "      <td>Alabama</td>\n",
       "      <td>2015-01-10T00:00:00.000</td>\n",
       "      <td>AL</td>\n",
       "      <td>2015</td>\n",
       "      <td>1</td>\n",
       "      <td>Other select causes</td>\n",
       "      <td>22</td>\n",
       "      <td>Sepsis</td>\n",
       "      <td>2015-2019</td>\n",
       "      <td>24</td>\n",
       "      <td>Unweighted</td>\n",
       "      <td>NaN</td>\n",
       "      <td>NaN</td>\n",
       "      <td>NaN</td>\n",
       "    </tr>\n",
       "    <tr>\n",
       "      <th>3</th>\n",
       "      <td>Alabama</td>\n",
       "      <td>2016-01-09T00:00:00.000</td>\n",
       "      <td>AL</td>\n",
       "      <td>2016</td>\n",
       "      <td>1</td>\n",
       "      <td>Other select causes</td>\n",
       "      <td>13</td>\n",
       "      <td>Sepsis</td>\n",
       "      <td>2015-2019</td>\n",
       "      <td>24</td>\n",
       "      <td>Predicted (weighted)</td>\n",
       "      <td>NaN</td>\n",
       "      <td>NaN</td>\n",
       "      <td>NaN</td>\n",
       "    </tr>\n",
       "    <tr>\n",
       "      <th>4</th>\n",
       "      <td>Alabama</td>\n",
       "      <td>2016-01-09T00:00:00.000</td>\n",
       "      <td>AL</td>\n",
       "      <td>2016</td>\n",
       "      <td>1</td>\n",
       "      <td>Other select causes</td>\n",
       "      <td>13</td>\n",
       "      <td>Sepsis</td>\n",
       "      <td>2015-2019</td>\n",
       "      <td>24</td>\n",
       "      <td>Unweighted</td>\n",
       "      <td>NaN</td>\n",
       "      <td>NaN</td>\n",
       "      <td>NaN</td>\n",
       "    </tr>\n",
       "  </tbody>\n",
       "</table>\n",
       "</div>"
      ],
      "text/plain": [
       "  jurisdiction         week_ending_date state_abbreviation mmwryear mmwrweek  \\\n",
       "0   New Jersey  2018-02-03T00:00:00.000                 NJ     2018        5   \n",
       "1      Alabama  2015-01-10T00:00:00.000                 AL     2015        1   \n",
       "2      Alabama  2015-01-10T00:00:00.000                 AL     2015        1   \n",
       "3      Alabama  2016-01-09T00:00:00.000                 AL     2016        1   \n",
       "4      Alabama  2016-01-09T00:00:00.000                 AL     2016        1   \n",
       "\n",
       "           cause_group number_of_deaths cause_subgroup time_period  \\\n",
       "0  Other select causes               49         Sepsis   2015-2019   \n",
       "1  Other select causes               22         Sepsis   2015-2019   \n",
       "2  Other select causes               22         Sepsis   2015-2019   \n",
       "3  Other select causes               13         Sepsis   2015-2019   \n",
       "4  Other select causes               13         Sepsis   2015-2019   \n",
       "\n",
       "  average_number_of_deaths                  type  \\\n",
       "0                       42  Predicted (weighted)   \n",
       "1                       24  Predicted (weighted)   \n",
       "2                       24            Unweighted   \n",
       "3                       24  Predicted (weighted)   \n",
       "4                       24            Unweighted   \n",
       "\n",
       "  difference_from_2015_2019_to_2020 percent_difference_from_15_19_to_20 note  \n",
       "0                               NaN                                 NaN  NaN  \n",
       "1                               NaN                                 NaN  NaN  \n",
       "2                               NaN                                 NaN  NaN  \n",
       "3                               NaN                                 NaN  NaN  \n",
       "4                               NaN                                 NaN  NaN  "
      ]
     },
     "execution_count": 646,
     "metadata": {},
     "output_type": "execute_result"
    }
   ],
   "source": [
    "death_counts_df = pd.DataFrame(data)\n",
    "death_counts_df.head()"
   ]
  },
  {
   "cell_type": "code",
   "execution_count": 647,
   "metadata": {},
   "outputs": [],
   "source": [
    "# limit it to unweighted actual data\n",
    "death_counts_df = death_counts_df.loc[death_counts_df['type'] == \"Unweighted\"]"
   ]
  },
  {
   "cell_type": "code",
   "execution_count": 648,
   "metadata": {},
   "outputs": [],
   "source": [
    "death_counts_df = death_counts_df[['week_ending_date', 'number_of_deaths', 'cause_group' ]]"
   ]
  },
  {
   "cell_type": "code",
   "execution_count": 649,
   "metadata": {},
   "outputs": [],
   "source": [
    "death_counts_df['week_ending_date'] = pd.to_datetime(death_counts_df['week_ending_date'])\n",
    "death_counts_df['number_of_deaths'] = pd.to_numeric(death_counts_df['number_of_deaths'])"
   ]
  },
  {
   "cell_type": "code",
   "execution_count": 650,
   "metadata": {},
   "outputs": [
    {
     "name": "stdout",
     "output_type": "stream",
     "text": [
      "<class 'pandas.core.frame.DataFrame'>\n",
      "Index: 240570 entries, 2 to 481138\n",
      "Data columns (total 3 columns):\n",
      " #   Column            Non-Null Count   Dtype         \n",
      "---  ------            --------------   -----         \n",
      " 0   week_ending_date  240570 non-null  datetime64[ns]\n",
      " 1   number_of_deaths  240570 non-null  int64         \n",
      " 2   cause_group       240570 non-null  object        \n",
      "dtypes: datetime64[ns](1), int64(1), object(1)\n",
      "memory usage: 7.3+ MB\n"
     ]
    }
   ],
   "source": [
    "death_counts_df.info()"
   ]
  },
  {
   "cell_type": "code",
   "execution_count": 651,
   "metadata": {},
   "outputs": [],
   "source": [
    "death_counts_df = death_counts_df.groupby(by=[ 'week_ending_date', 'cause_group']).sum()"
   ]
  },
  {
   "cell_type": "code",
   "execution_count": 652,
   "metadata": {},
   "outputs": [
    {
     "data": {
      "text/html": [
       "<div>\n",
       "<style scoped>\n",
       "    .dataframe tbody tr th:only-of-type {\n",
       "        vertical-align: middle;\n",
       "    }\n",
       "\n",
       "    .dataframe tbody tr th {\n",
       "        vertical-align: top;\n",
       "    }\n",
       "\n",
       "    .dataframe thead th {\n",
       "        text-align: right;\n",
       "    }\n",
       "</style>\n",
       "<table border=\"1\" class=\"dataframe\">\n",
       "  <thead>\n",
       "    <tr style=\"text-align: right;\">\n",
       "      <th></th>\n",
       "      <th></th>\n",
       "      <th>number_of_deaths</th>\n",
       "    </tr>\n",
       "    <tr>\n",
       "      <th>week_ending_date</th>\n",
       "      <th>cause_group</th>\n",
       "      <th></th>\n",
       "    </tr>\n",
       "  </thead>\n",
       "  <tbody>\n",
       "    <tr>\n",
       "      <th rowspan=\"5\" valign=\"top\">2015-01-10</th>\n",
       "      <th>Alzheimer disease and dementia</th>\n",
       "      <td>12411</td>\n",
       "    </tr>\n",
       "    <tr>\n",
       "      <th>Circulatory diseases</th>\n",
       "      <td>38866</td>\n",
       "    </tr>\n",
       "    <tr>\n",
       "      <th>Malignant neoplasms</th>\n",
       "      <td>23871</td>\n",
       "    </tr>\n",
       "    <tr>\n",
       "      <th>Other select causes</th>\n",
       "      <td>7708</td>\n",
       "    </tr>\n",
       "    <tr>\n",
       "      <th>Respiratory diseases</th>\n",
       "      <td>15953</td>\n",
       "    </tr>\n",
       "    <tr>\n",
       "      <th>...</th>\n",
       "      <th>...</th>\n",
       "      <td>...</td>\n",
       "    </tr>\n",
       "    <tr>\n",
       "      <th rowspan=\"5\" valign=\"top\">2023-09-09</th>\n",
       "      <th>Alzheimer disease and dementia</th>\n",
       "      <td>9736</td>\n",
       "    </tr>\n",
       "    <tr>\n",
       "      <th>Circulatory diseases</th>\n",
       "      <td>27349</td>\n",
       "    </tr>\n",
       "    <tr>\n",
       "      <th>Malignant neoplasms</th>\n",
       "      <td>20783</td>\n",
       "    </tr>\n",
       "    <tr>\n",
       "      <th>Other select causes</th>\n",
       "      <td>5306</td>\n",
       "    </tr>\n",
       "    <tr>\n",
       "      <th>Respiratory diseases</th>\n",
       "      <td>7404</td>\n",
       "    </tr>\n",
       "  </tbody>\n",
       "</table>\n",
       "<p>2265 rows × 1 columns</p>\n",
       "</div>"
      ],
      "text/plain": [
       "                                                 number_of_deaths\n",
       "week_ending_date cause_group                                     \n",
       "2015-01-10       Alzheimer disease and dementia             12411\n",
       "                 Circulatory diseases                       38866\n",
       "                 Malignant neoplasms                        23871\n",
       "                 Other select causes                         7708\n",
       "                 Respiratory diseases                       15953\n",
       "...                                                           ...\n",
       "2023-09-09       Alzheimer disease and dementia              9736\n",
       "                 Circulatory diseases                       27349\n",
       "                 Malignant neoplasms                        20783\n",
       "                 Other select causes                         5306\n",
       "                 Respiratory diseases                        7404\n",
       "\n",
       "[2265 rows x 1 columns]"
      ]
     },
     "execution_count": 652,
     "metadata": {},
     "output_type": "execute_result"
    }
   ],
   "source": [
    "death_counts_df"
   ]
  },
  {
   "cell_type": "code",
   "execution_count": 653,
   "metadata": {},
   "outputs": [
    {
     "data": {
      "text/html": [
       "<div>\n",
       "<style scoped>\n",
       "    .dataframe tbody tr th:only-of-type {\n",
       "        vertical-align: middle;\n",
       "    }\n",
       "\n",
       "    .dataframe tbody tr th {\n",
       "        vertical-align: top;\n",
       "    }\n",
       "\n",
       "    .dataframe thead th {\n",
       "        text-align: right;\n",
       "    }\n",
       "</style>\n",
       "<table border=\"1\" class=\"dataframe\">\n",
       "  <thead>\n",
       "    <tr style=\"text-align: right;\">\n",
       "      <th></th>\n",
       "      <th>week_ending_date</th>\n",
       "      <th>cause_group</th>\n",
       "      <th>number_of_deaths</th>\n",
       "    </tr>\n",
       "  </thead>\n",
       "  <tbody>\n",
       "    <tr>\n",
       "      <th>0</th>\n",
       "      <td>2015-01-10</td>\n",
       "      <td>Alzheimer disease and dementia</td>\n",
       "      <td>12411</td>\n",
       "    </tr>\n",
       "    <tr>\n",
       "      <th>1</th>\n",
       "      <td>2015-01-10</td>\n",
       "      <td>Circulatory diseases</td>\n",
       "      <td>38866</td>\n",
       "    </tr>\n",
       "    <tr>\n",
       "      <th>2</th>\n",
       "      <td>2015-01-10</td>\n",
       "      <td>Malignant neoplasms</td>\n",
       "      <td>23871</td>\n",
       "    </tr>\n",
       "    <tr>\n",
       "      <th>3</th>\n",
       "      <td>2015-01-10</td>\n",
       "      <td>Other select causes</td>\n",
       "      <td>7708</td>\n",
       "    </tr>\n",
       "    <tr>\n",
       "      <th>4</th>\n",
       "      <td>2015-01-10</td>\n",
       "      <td>Respiratory diseases</td>\n",
       "      <td>15953</td>\n",
       "    </tr>\n",
       "  </tbody>\n",
       "</table>\n",
       "</div>"
      ],
      "text/plain": [
       "  week_ending_date                     cause_group  number_of_deaths\n",
       "0       2015-01-10  Alzheimer disease and dementia             12411\n",
       "1       2015-01-10            Circulatory diseases             38866\n",
       "2       2015-01-10             Malignant neoplasms             23871\n",
       "3       2015-01-10             Other select causes              7708\n",
       "4       2015-01-10            Respiratory diseases             15953"
      ]
     },
     "execution_count": 653,
     "metadata": {},
     "output_type": "execute_result"
    }
   ],
   "source": [
    "death_counts_df = death_counts_df.reset_index()\n",
    "death_counts_df.head()"
   ]
  },
  {
   "cell_type": "code",
   "execution_count": 654,
   "metadata": {},
   "outputs": [
    {
     "data": {
      "text/html": [
       "<div>\n",
       "<style scoped>\n",
       "    .dataframe tbody tr th:only-of-type {\n",
       "        vertical-align: middle;\n",
       "    }\n",
       "\n",
       "    .dataframe tbody tr th {\n",
       "        vertical-align: top;\n",
       "    }\n",
       "\n",
       "    .dataframe thead th {\n",
       "        text-align: right;\n",
       "    }\n",
       "</style>\n",
       "<table border=\"1\" class=\"dataframe\">\n",
       "  <thead>\n",
       "    <tr style=\"text-align: right;\">\n",
       "      <th>cause_group</th>\n",
       "      <th>Alzheimer disease and dementia</th>\n",
       "      <th>Circulatory diseases</th>\n",
       "      <th>Malignant neoplasms</th>\n",
       "      <th>Other select causes</th>\n",
       "      <th>Respiratory diseases</th>\n",
       "    </tr>\n",
       "    <tr>\n",
       "      <th>week_ending_date</th>\n",
       "      <th></th>\n",
       "      <th></th>\n",
       "      <th></th>\n",
       "      <th></th>\n",
       "      <th></th>\n",
       "    </tr>\n",
       "  </thead>\n",
       "  <tbody>\n",
       "    <tr>\n",
       "      <th>2015-01-10</th>\n",
       "      <td>12411</td>\n",
       "      <td>38866</td>\n",
       "      <td>23871</td>\n",
       "      <td>7708</td>\n",
       "      <td>15953</td>\n",
       "    </tr>\n",
       "    <tr>\n",
       "      <th>2015-01-17</th>\n",
       "      <td>12735</td>\n",
       "      <td>38081</td>\n",
       "      <td>23991</td>\n",
       "      <td>7766</td>\n",
       "      <td>15185</td>\n",
       "    </tr>\n",
       "    <tr>\n",
       "      <th>2015-01-24</th>\n",
       "      <td>11649</td>\n",
       "      <td>36395</td>\n",
       "      <td>23462</td>\n",
       "      <td>7553</td>\n",
       "      <td>14352</td>\n",
       "    </tr>\n",
       "    <tr>\n",
       "      <th>2015-01-31</th>\n",
       "      <td>11279</td>\n",
       "      <td>35525</td>\n",
       "      <td>23585</td>\n",
       "      <td>7174</td>\n",
       "      <td>13506</td>\n",
       "    </tr>\n",
       "    <tr>\n",
       "      <th>2015-02-07</th>\n",
       "      <td>11045</td>\n",
       "      <td>36279</td>\n",
       "      <td>23454</td>\n",
       "      <td>7056</td>\n",
       "      <td>13020</td>\n",
       "    </tr>\n",
       "  </tbody>\n",
       "</table>\n",
       "</div>"
      ],
      "text/plain": [
       "cause_group       Alzheimer disease and dementia  Circulatory diseases  \\\n",
       "week_ending_date                                                         \n",
       "2015-01-10                                 12411                 38866   \n",
       "2015-01-17                                 12735                 38081   \n",
       "2015-01-24                                 11649                 36395   \n",
       "2015-01-31                                 11279                 35525   \n",
       "2015-02-07                                 11045                 36279   \n",
       "\n",
       "cause_group       Malignant neoplasms  Other select causes  \\\n",
       "week_ending_date                                             \n",
       "2015-01-10                      23871                 7708   \n",
       "2015-01-17                      23991                 7766   \n",
       "2015-01-24                      23462                 7553   \n",
       "2015-01-31                      23585                 7174   \n",
       "2015-02-07                      23454                 7056   \n",
       "\n",
       "cause_group       Respiratory diseases  \n",
       "week_ending_date                        \n",
       "2015-01-10                       15953  \n",
       "2015-01-17                       15185  \n",
       "2015-01-24                       14352  \n",
       "2015-01-31                       13506  \n",
       "2015-02-07                       13020  "
      ]
     },
     "execution_count": 654,
     "metadata": {},
     "output_type": "execute_result"
    }
   ],
   "source": [
    "death_counts_pivoted = pd.pivot_table(death_counts_df, columns=[\"cause_group\"], index=\"week_ending_date\", values=\"number_of_deaths\",aggfunc=\"sum\")\n",
    "death_counts_pivoted.head()"
   ]
  },
  {
   "cell_type": "code",
   "execution_count": 655,
   "metadata": {},
   "outputs": [
    {
     "data": {
      "text/html": [
       "<div>\n",
       "<style scoped>\n",
       "    .dataframe tbody tr th:only-of-type {\n",
       "        vertical-align: middle;\n",
       "    }\n",
       "\n",
       "    .dataframe tbody tr th {\n",
       "        vertical-align: top;\n",
       "    }\n",
       "\n",
       "    .dataframe thead th {\n",
       "        text-align: right;\n",
       "    }\n",
       "</style>\n",
       "<table border=\"1\" class=\"dataframe\">\n",
       "  <thead>\n",
       "    <tr style=\"text-align: right;\">\n",
       "      <th>cause_group</th>\n",
       "      <th>Alzheimer disease and dementia</th>\n",
       "      <th>Circulatory diseases</th>\n",
       "      <th>Malignant neoplasms</th>\n",
       "      <th>Other select causes</th>\n",
       "      <th>Respiratory diseases</th>\n",
       "      <th>total</th>\n",
       "    </tr>\n",
       "    <tr>\n",
       "      <th>week_ending_date</th>\n",
       "      <th></th>\n",
       "      <th></th>\n",
       "      <th></th>\n",
       "      <th></th>\n",
       "      <th></th>\n",
       "      <th></th>\n",
       "    </tr>\n",
       "  </thead>\n",
       "  <tbody>\n",
       "    <tr>\n",
       "      <th>2015-01-10</th>\n",
       "      <td>12411</td>\n",
       "      <td>38866</td>\n",
       "      <td>23871</td>\n",
       "      <td>7708</td>\n",
       "      <td>15953</td>\n",
       "      <td>98809</td>\n",
       "    </tr>\n",
       "    <tr>\n",
       "      <th>2015-01-17</th>\n",
       "      <td>12735</td>\n",
       "      <td>38081</td>\n",
       "      <td>23991</td>\n",
       "      <td>7766</td>\n",
       "      <td>15185</td>\n",
       "      <td>97758</td>\n",
       "    </tr>\n",
       "    <tr>\n",
       "      <th>2015-01-24</th>\n",
       "      <td>11649</td>\n",
       "      <td>36395</td>\n",
       "      <td>23462</td>\n",
       "      <td>7553</td>\n",
       "      <td>14352</td>\n",
       "      <td>93411</td>\n",
       "    </tr>\n",
       "    <tr>\n",
       "      <th>2015-01-31</th>\n",
       "      <td>11279</td>\n",
       "      <td>35525</td>\n",
       "      <td>23585</td>\n",
       "      <td>7174</td>\n",
       "      <td>13506</td>\n",
       "      <td>91069</td>\n",
       "    </tr>\n",
       "    <tr>\n",
       "      <th>2015-02-07</th>\n",
       "      <td>11045</td>\n",
       "      <td>36279</td>\n",
       "      <td>23454</td>\n",
       "      <td>7056</td>\n",
       "      <td>13020</td>\n",
       "      <td>90854</td>\n",
       "    </tr>\n",
       "  </tbody>\n",
       "</table>\n",
       "</div>"
      ],
      "text/plain": [
       "cause_group       Alzheimer disease and dementia  Circulatory diseases  \\\n",
       "week_ending_date                                                         \n",
       "2015-01-10                                 12411                 38866   \n",
       "2015-01-17                                 12735                 38081   \n",
       "2015-01-24                                 11649                 36395   \n",
       "2015-01-31                                 11279                 35525   \n",
       "2015-02-07                                 11045                 36279   \n",
       "\n",
       "cause_group       Malignant neoplasms  Other select causes  \\\n",
       "week_ending_date                                             \n",
       "2015-01-10                      23871                 7708   \n",
       "2015-01-17                      23991                 7766   \n",
       "2015-01-24                      23462                 7553   \n",
       "2015-01-31                      23585                 7174   \n",
       "2015-02-07                      23454                 7056   \n",
       "\n",
       "cause_group       Respiratory diseases  total  \n",
       "week_ending_date                               \n",
       "2015-01-10                       15953  98809  \n",
       "2015-01-17                       15185  97758  \n",
       "2015-01-24                       14352  93411  \n",
       "2015-01-31                       13506  91069  \n",
       "2015-02-07                       13020  90854  "
      ]
     },
     "execution_count": 655,
     "metadata": {},
     "output_type": "execute_result"
    }
   ],
   "source": [
    "death_counts_pivoted['total'] = death_counts_pivoted[death_counts_pivoted.columns].sum(axis=1)\n",
    "death_counts_pivoted.head()"
   ]
  },
  {
   "cell_type": "code",
   "execution_count": 656,
   "metadata": {},
   "outputs": [
    {
     "data": {
      "text/plain": [
       "<Axes: xlabel='week_ending_date'>"
      ]
     },
     "execution_count": 656,
     "metadata": {},
     "output_type": "execute_result"
    },
    {
     "data": {
      "image/png": "[encoded data removed]",
      "text/plain": [
       "<Figure size 640x480 with 1 Axes>"
      ]
     },
     "metadata": {},
     "output_type": "display_data"
    }
   ],
   "source": [
    "death_counts_pivoted.plot()"
   ]
  },
  {
   "cell_type": "code",
   "execution_count": 657,
   "metadata": {},
   "outputs": [
    {
     "name": "stdout",
     "output_type": "stream",
     "text": [
      "Stored 'clean_death_counts_df' (DataFrame)\n"
     ]
    }
   ],
   "source": [
    "clean_death_counts_df = death_counts_pivoted\n",
    "%store clean_death_counts_df"
   ]
  }
 ],
 "metadata": {
  "kernelspec": {
   "display_name": "base",
   "language": "python",
   "name": "python3"
  },
  "language_info": {
   "codemirror_mode": {
    "name": "ipython",
    "version": 3
   },
   "file_extension": ".py",
   "mimetype": "text/x-python",
   "name": "python",
   "nbconvert_exporter": "python",
   "pygments_lexer": "ipython3",
   "version": "3.12.4"
  }
 },
 "nbformat": 4,
 "nbformat_minor": 2
}
