{
 "cells": [
  {
   "cell_type": "code",
   "execution_count": 4,
   "metadata": {},
   "outputs": [],
   "source": [
    "import pandas as pd\n",
    "import matplotlib as plt\n"
   ]
  },
  {
   "cell_type": "code",
   "execution_count": 5,
   "metadata": {},
   "outputs": [],
   "source": [
    "%store -r clean_death_counts_df\n",
    "%store -r weekly_data"
   ]
  },
  {
   "cell_type": "code",
   "execution_count": 6,
   "metadata": {},
   "outputs": [
    {
     "data": {
      "text/html": [
       "<div>\n",
       "<style scoped>\n",
       "    .dataframe tbody tr th:only-of-type {\n",
       "        vertical-align: middle;\n",
       "    }\n",
       "\n",
       "    .dataframe tbody tr th {\n",
       "        vertical-align: top;\n",
       "    }\n",
       "\n",
       "    .dataframe thead th {\n",
       "        text-align: right;\n",
       "    }\n",
       "</style>\n",
       "<table border=\"1\" class=\"dataframe\">\n",
       "  <thead>\n",
       "    <tr style=\"text-align: right;\">\n",
       "      <th>cause_group</th>\n",
       "      <th>Alzheimer disease and dementia</th>\n",
       "      <th>Circulatory diseases</th>\n",
       "      <th>Malignant neoplasms</th>\n",
       "      <th>Other select causes</th>\n",
       "      <th>Respiratory diseases</th>\n",
       "      <th>total</th>\n",
       "    </tr>\n",
       "    <tr>\n",
       "      <th>week_ending_date</th>\n",
       "      <th></th>\n",
       "      <th></th>\n",
       "      <th></th>\n",
       "      <th></th>\n",
       "      <th></th>\n",
       "      <th></th>\n",
       "    </tr>\n",
       "  </thead>\n",
       "  <tbody>\n",
       "    <tr>\n",
       "      <th>2015-01-10</th>\n",
       "      <td>12411</td>\n",
       "      <td>38866</td>\n",
       "      <td>23871</td>\n",
       "      <td>7708</td>\n",
       "      <td>15953</td>\n",
       "      <td>98809</td>\n",
       "    </tr>\n",
       "    <tr>\n",
       "      <th>2015-01-17</th>\n",
       "      <td>12735</td>\n",
       "      <td>38081</td>\n",
       "      <td>23991</td>\n",
       "      <td>7766</td>\n",
       "      <td>15185</td>\n",
       "      <td>97758</td>\n",
       "    </tr>\n",
       "    <tr>\n",
       "      <th>2015-01-24</th>\n",
       "      <td>11649</td>\n",
       "      <td>36395</td>\n",
       "      <td>23462</td>\n",
       "      <td>7553</td>\n",
       "      <td>14352</td>\n",
       "      <td>93411</td>\n",
       "    </tr>\n",
       "    <tr>\n",
       "      <th>2015-01-31</th>\n",
       "      <td>11279</td>\n",
       "      <td>35525</td>\n",
       "      <td>23585</td>\n",
       "      <td>7174</td>\n",
       "      <td>13506</td>\n",
       "      <td>91069</td>\n",
       "    </tr>\n",
       "    <tr>\n",
       "      <th>2015-02-07</th>\n",
       "      <td>11045</td>\n",
       "      <td>36279</td>\n",
       "      <td>23454</td>\n",
       "      <td>7056</td>\n",
       "      <td>13020</td>\n",
       "      <td>90854</td>\n",
       "    </tr>\n",
       "  </tbody>\n",
       "</table>\n",
       "</div>"
      ],
      "text/plain": [
       "cause_group       Alzheimer disease and dementia  Circulatory diseases  \\\n",
       "week_ending_date                                                         \n",
       "2015-01-10                                 12411                 38866   \n",
       "2015-01-17                                 12735                 38081   \n",
       "2015-01-24                                 11649                 36395   \n",
       "2015-01-31                                 11279                 35525   \n",
       "2015-02-07                                 11045                 36279   \n",
       "\n",
       "cause_group       Malignant neoplasms  Other select causes  \\\n",
       "week_ending_date                                             \n",
       "2015-01-10                      23871                 7708   \n",
       "2015-01-17                      23991                 7766   \n",
       "2015-01-24                      23462                 7553   \n",
       "2015-01-31                      23585                 7174   \n",
       "2015-02-07                      23454                 7056   \n",
       "\n",
       "cause_group       Respiratory diseases  total  \n",
       "week_ending_date                               \n",
       "2015-01-10                       15953  98809  \n",
       "2015-01-17                       15185  97758  \n",
       "2015-01-24                       14352  93411  \n",
       "2015-01-31                       13506  91069  \n",
       "2015-02-07                       13020  90854  "
      ]
     },
     "metadata": {},
     "output_type": "display_data"
    },
    {
     "data": {
      "text/html": [
       "<div>\n",
       "<style scoped>\n",
       "    .dataframe tbody tr th:only-of-type {\n",
       "        vertical-align: middle;\n",
       "    }\n",
       "\n",
       "    .dataframe tbody tr th {\n",
       "        vertical-align: top;\n",
       "    }\n",
       "\n",
       "    .dataframe thead th {\n",
       "        text-align: right;\n",
       "    }\n",
       "</style>\n",
       "<table border=\"1\" class=\"dataframe\">\n",
       "  <thead>\n",
       "    <tr style=\"text-align: right;\">\n",
       "      <th></th>\n",
       "      <th>Close</th>\n",
       "    </tr>\n",
       "    <tr>\n",
       "      <th>Date</th>\n",
       "      <th></th>\n",
       "    </tr>\n",
       "  </thead>\n",
       "  <tbody>\n",
       "    <tr>\n",
       "      <th>2021-01-10</th>\n",
       "      <td>37.012</td>\n",
       "    </tr>\n",
       "    <tr>\n",
       "      <th>2021-01-17</th>\n",
       "      <td>37.052</td>\n",
       "    </tr>\n",
       "    <tr>\n",
       "      <th>2021-01-24</th>\n",
       "      <td>36.565</td>\n",
       "    </tr>\n",
       "    <tr>\n",
       "      <th>2021-01-31</th>\n",
       "      <td>36.518</td>\n",
       "    </tr>\n",
       "    <tr>\n",
       "      <th>2021-02-07</th>\n",
       "      <td>35.088</td>\n",
       "    </tr>\n",
       "  </tbody>\n",
       "</table>\n",
       "</div>"
      ],
      "text/plain": [
       "             Close\n",
       "Date              \n",
       "2021-01-10  37.012\n",
       "2021-01-17  37.052\n",
       "2021-01-24  36.565\n",
       "2021-01-31  36.518\n",
       "2021-02-07  35.088"
      ]
     },
     "metadata": {},
     "output_type": "display_data"
    }
   ],
   "source": [
    "display(clean_death_counts_df.head())\n",
    "display(weekly_data.head())"
   ]
  },
  {
   "cell_type": "code",
   "execution_count": 7,
   "metadata": {},
   "outputs": [],
   "source": [
    "def add_year_and_week(df, date_column):\n",
    "    df = df.reset_index()\n",
    "    df['week'] = df[date_column].dt.isocalendar().week\n",
    "    df['year'] = df[date_column].dt.year\n",
    "    return df"
   ]
  },
  {
   "cell_type": "code",
   "execution_count": 8,
   "metadata": {},
   "outputs": [],
   "source": [
    "clean_death_counts_df = add_year_and_week(clean_death_counts_df, 'week_ending_date')\n",
    "pfizer_data = add_year_and_week(weekly_data, 'Date')"
   ]
  },
  {
   "cell_type": "code",
   "execution_count": 11,
   "metadata": {},
   "outputs": [
    {
     "data": {
      "text/html": [
       "<div>\n",
       "<style scoped>\n",
       "    .dataframe tbody tr th:only-of-type {\n",
       "        vertical-align: middle;\n",
       "    }\n",
       "\n",
       "    .dataframe tbody tr th {\n",
       "        vertical-align: top;\n",
       "    }\n",
       "\n",
       "    .dataframe thead th {\n",
       "        text-align: right;\n",
       "    }\n",
       "</style>\n",
       "<table border=\"1\" class=\"dataframe\">\n",
       "  <thead>\n",
       "    <tr style=\"text-align: right;\">\n",
       "      <th></th>\n",
       "      <th>Date</th>\n",
       "      <th>Close</th>\n",
       "      <th>week</th>\n",
       "      <th>year</th>\n",
       "      <th>week_ending_date</th>\n",
       "      <th>Alzheimer disease and dementia</th>\n",
       "      <th>Circulatory diseases</th>\n",
       "      <th>Malignant neoplasms</th>\n",
       "      <th>Other select causes</th>\n",
       "      <th>Respiratory diseases</th>\n",
       "      <th>total</th>\n",
       "    </tr>\n",
       "  </thead>\n",
       "  <tbody>\n",
       "    <tr>\n",
       "      <th>0</th>\n",
       "      <td>2021-01-10</td>\n",
       "      <td>37.012</td>\n",
       "      <td>1</td>\n",
       "      <td>2021</td>\n",
       "      <td>2021-01-09</td>\n",
       "      <td>13254</td>\n",
       "      <td>40043</td>\n",
       "      <td>22780</td>\n",
       "      <td>8601</td>\n",
       "      <td>10482</td>\n",
       "      <td>95160</td>\n",
       "    </tr>\n",
       "    <tr>\n",
       "      <th>1</th>\n",
       "      <td>2021-01-17</td>\n",
       "      <td>37.052</td>\n",
       "      <td>2</td>\n",
       "      <td>2021</td>\n",
       "      <td>2021-01-16</td>\n",
       "      <td>13423</td>\n",
       "      <td>40153</td>\n",
       "      <td>23812</td>\n",
       "      <td>8839</td>\n",
       "      <td>10396</td>\n",
       "      <td>96623</td>\n",
       "    </tr>\n",
       "    <tr>\n",
       "      <th>2</th>\n",
       "      <td>2021-01-24</td>\n",
       "      <td>36.565</td>\n",
       "      <td>3</td>\n",
       "      <td>2021</td>\n",
       "      <td>2021-01-23</td>\n",
       "      <td>13161</td>\n",
       "      <td>39246</td>\n",
       "      <td>23250</td>\n",
       "      <td>8246</td>\n",
       "      <td>9924</td>\n",
       "      <td>93827</td>\n",
       "    </tr>\n",
       "    <tr>\n",
       "      <th>3</th>\n",
       "      <td>2021-01-31</td>\n",
       "      <td>36.518</td>\n",
       "      <td>4</td>\n",
       "      <td>2021</td>\n",
       "      <td>2021-01-30</td>\n",
       "      <td>12376</td>\n",
       "      <td>38130</td>\n",
       "      <td>23493</td>\n",
       "      <td>8045</td>\n",
       "      <td>9829</td>\n",
       "      <td>91873</td>\n",
       "    </tr>\n",
       "    <tr>\n",
       "      <th>4</th>\n",
       "      <td>2021-02-07</td>\n",
       "      <td>35.088</td>\n",
       "      <td>5</td>\n",
       "      <td>2021</td>\n",
       "      <td>2021-02-06</td>\n",
       "      <td>11954</td>\n",
       "      <td>38553</td>\n",
       "      <td>23297</td>\n",
       "      <td>7921</td>\n",
       "      <td>9840</td>\n",
       "      <td>91565</td>\n",
       "    </tr>\n",
       "  </tbody>\n",
       "</table>\n",
       "</div>"
      ],
      "text/plain": [
       "        Date   Close  week  year week_ending_date  \\\n",
       "0 2021-01-10  37.012     1  2021       2021-01-09   \n",
       "1 2021-01-17  37.052     2  2021       2021-01-16   \n",
       "2 2021-01-24  36.565     3  2021       2021-01-23   \n",
       "3 2021-01-31  36.518     4  2021       2021-01-30   \n",
       "4 2021-02-07  35.088     5  2021       2021-02-06   \n",
       "\n",
       "   Alzheimer disease and dementia  Circulatory diseases  Malignant neoplasms  \\\n",
       "0                           13254                 40043                22780   \n",
       "1                           13423                 40153                23812   \n",
       "2                           13161                 39246                23250   \n",
       "3                           12376                 38130                23493   \n",
       "4                           11954                 38553                23297   \n",
       "\n",
       "   Other select causes  Respiratory diseases  total  \n",
       "0                 8601                 10482  95160  \n",
       "1                 8839                 10396  96623  \n",
       "2                 8246                  9924  93827  \n",
       "3                 8045                  9829  91873  \n",
       "4                 7921                  9840  91565  "
      ]
     },
     "execution_count": 11,
     "metadata": {},
     "output_type": "execute_result"
    }
   ],
   "source": [
    "death_count_pfizer = pd.merge(pfizer_data, clean_death_counts_df, on= ['week', 'year'])\n",
    "death_count_pfizer.head()"
   ]
  },
  {
   "cell_type": "code",
   "execution_count": 15,
   "metadata": {},
   "outputs": [],
   "source": [
    "death_count_pfizer.set_index('Date', inplace=True)"
   ]
  },
  {
   "cell_type": "code",
   "execution_count": 18,
   "metadata": {},
   "outputs": [],
   "source": [
    "death_count_pfizer['total_deaths(1000s)'] = death_count_pfizer['total']/1000"
   ]
  },
  {
   "cell_type": "code",
   "execution_count": 19,
   "metadata": {},
   "outputs": [
    {
     "data": {
      "text/plain": [
       "<Axes: xlabel='Date'>"
      ]
     },
     "execution_count": 19,
     "metadata": {},
     "output_type": "execute_result"
    },
    {
     "data": {
      "image/png": "[encoded data removed]",
      "text/plain": [
       "<Figure size 640x480 with 1 Axes>"
      ]
     },
     "metadata": {},
     "output_type": "display_data"
    }
   ],
   "source": [
    "death_count_pfizer = death_count_pfizer[['Close','total_deaths(1000s)']]\n",
    "death_count_pfizer.plot()"
   ]
  },
  {
   "cell_type": "code",
   "execution_count": 20,
   "metadata": {},
   "outputs": [
    {
     "data": {
      "text/html": [
       "<div>\n",
       "<style scoped>\n",
       "    .dataframe tbody tr th:only-of-type {\n",
       "        vertical-align: middle;\n",
       "    }\n",
       "\n",
       "    .dataframe tbody tr th {\n",
       "        vertical-align: top;\n",
       "    }\n",
       "\n",
       "    .dataframe thead th {\n",
       "        text-align: right;\n",
       "    }\n",
       "</style>\n",
       "<table border=\"1\" class=\"dataframe\">\n",
       "  <thead>\n",
       "    <tr style=\"text-align: right;\">\n",
       "      <th></th>\n",
       "      <th>Close</th>\n",
       "      <th>total_deaths(1000s)</th>\n",
       "    </tr>\n",
       "  </thead>\n",
       "  <tbody>\n",
       "    <tr>\n",
       "      <th>Close</th>\n",
       "      <td>1.000000</td>\n",
       "      <td>0.383565</td>\n",
       "    </tr>\n",
       "    <tr>\n",
       "      <th>total_deaths(1000s)</th>\n",
       "      <td>0.383565</td>\n",
       "      <td>1.000000</td>\n",
       "    </tr>\n",
       "  </tbody>\n",
       "</table>\n",
       "</div>"
      ],
      "text/plain": [
       "                        Close  total_deaths(1000s)\n",
       "Close                1.000000             0.383565\n",
       "total_deaths(1000s)  0.383565             1.000000"
      ]
     },
     "execution_count": 20,
     "metadata": {},
     "output_type": "execute_result"
    }
   ],
   "source": [
    "death_count_pfizer.corr()"
   ]
  }
 ],
 "metadata": {
  "kernelspec": {
   "display_name": "base",
   "language": "python",
   "name": "python3"
  },
  "language_info": {
   "codemirror_mode": {
    "name": "ipython",
    "version": 3
   },
   "file_extension": ".py",
   "mimetype": "text/x-python",
   "name": "python",
   "nbconvert_exporter": "python",
   "pygments_lexer": "ipython3",
   "version": "3.12.4"
  }
 },
 "nbformat": 4,
 "nbformat_minor": 2
}
