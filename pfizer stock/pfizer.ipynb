{
 "cells": [
  {
   "cell_type": "code",
   "execution_count": 1,
   "metadata": {},
   "outputs": [],
   "source": [
    "import pandas as pd\n",
    "import matplotlib.pyplot as plt\n",
    "import seaborn as sns"
   ]
  },
  {
   "cell_type": "code",
   "execution_count": 2,
   "metadata": {},
   "outputs": [],
   "source": [
    "# Step 1: Read in the CSV files using pandas\n",
    "data_2021 = pd.read_csv('2021_stock.csv')\n",
    "data_2022 = pd.read_csv('2022_stock.csv')"
   ]
  },
  {
   "cell_type": "code",
   "execution_count": 3,
   "metadata": {},
   "outputs": [],
   "source": [
    "# Convert 'Date' columns to datetime type\n",
    "data_2021['Date'] = pd.to_datetime(data_2021['Date'], format='%m/%d/%Y')\n",
    "data_2022['Date'] = pd.to_datetime(data_2022['Date'], format='%m/%d/%Y')"
   ]
  },
  {
   "cell_type": "code",
   "execution_count": 4,
   "metadata": {},
   "outputs": [],
   "source": [
    "data_2021.rename(columns={'Close_2021': 'Close'}, inplace=True)\n",
    "data_2022.rename(columns={'Close_2022': 'Close'}, inplace=True)"
   ]
  },
  {
   "cell_type": "code",
   "execution_count": 5,
   "metadata": {},
   "outputs": [],
   "source": [
    "# Merge the datasets on 'Date'\n",
    "merged_data = pd.concat([data_2021, data_2022])"
   ]
  },
  {
   "cell_type": "code",
   "execution_count": 6,
   "metadata": {},
   "outputs": [
    {
     "data": {
      "text/html": [
       "<div>\n",
       "<style scoped>\n",
       "    .dataframe tbody tr th:only-of-type {\n",
       "        vertical-align: middle;\n",
       "    }\n",
       "\n",
       "    .dataframe tbody tr th {\n",
       "        vertical-align: top;\n",
       "    }\n",
       "\n",
       "    .dataframe thead th {\n",
       "        text-align: right;\n",
       "    }\n",
       "</style>\n",
       "<table border=\"1\" class=\"dataframe\">\n",
       "  <thead>\n",
       "    <tr style=\"text-align: right;\">\n",
       "      <th></th>\n",
       "      <th>Date</th>\n",
       "      <th>Open</th>\n",
       "      <th>High</th>\n",
       "      <th>Low</th>\n",
       "      <th>Close</th>\n",
       "      <th>Volume</th>\n",
       "    </tr>\n",
       "  </thead>\n",
       "  <tbody>\n",
       "    <tr>\n",
       "      <th>0</th>\n",
       "      <td>2021-12-30</td>\n",
       "      <td>57.75</td>\n",
       "      <td>58.74</td>\n",
       "      <td>57.53</td>\n",
       "      <td>58.40</td>\n",
       "      <td>24,559,000</td>\n",
       "    </tr>\n",
       "    <tr>\n",
       "      <th>1</th>\n",
       "      <td>2021-12-29</td>\n",
       "      <td>57.31</td>\n",
       "      <td>58.03</td>\n",
       "      <td>57.07</td>\n",
       "      <td>57.58</td>\n",
       "      <td>26,170,221</td>\n",
       "    </tr>\n",
       "    <tr>\n",
       "      <th>2</th>\n",
       "      <td>2021-12-28</td>\n",
       "      <td>59.05</td>\n",
       "      <td>59.45</td>\n",
       "      <td>57.08</td>\n",
       "      <td>58.01</td>\n",
       "      <td>36,901,699</td>\n",
       "    </tr>\n",
       "    <tr>\n",
       "      <th>3</th>\n",
       "      <td>2021-12-27</td>\n",
       "      <td>58.85</td>\n",
       "      <td>59.38</td>\n",
       "      <td>58.23</td>\n",
       "      <td>59.20</td>\n",
       "      <td>27,362,580</td>\n",
       "    </tr>\n",
       "    <tr>\n",
       "      <th>4</th>\n",
       "      <td>2021-12-23</td>\n",
       "      <td>59.82</td>\n",
       "      <td>60.08</td>\n",
       "      <td>58.31</td>\n",
       "      <td>58.71</td>\n",
       "      <td>39,203,199</td>\n",
       "    </tr>\n",
       "    <tr>\n",
       "      <th>...</th>\n",
       "      <td>...</td>\n",
       "      <td>...</td>\n",
       "      <td>...</td>\n",
       "      <td>...</td>\n",
       "      <td>...</td>\n",
       "      <td>...</td>\n",
       "    </tr>\n",
       "    <tr>\n",
       "      <th>246</th>\n",
       "      <td>2022-01-07</td>\n",
       "      <td>55.36</td>\n",
       "      <td>55.77</td>\n",
       "      <td>54.63</td>\n",
       "      <td>55.72</td>\n",
       "      <td>27,703,369</td>\n",
       "    </tr>\n",
       "    <tr>\n",
       "      <th>247</th>\n",
       "      <td>2022-01-06</td>\n",
       "      <td>55.16</td>\n",
       "      <td>55.63</td>\n",
       "      <td>54.49</td>\n",
       "      <td>54.84</td>\n",
       "      <td>37,000,391</td>\n",
       "    </tr>\n",
       "    <tr>\n",
       "      <th>248</th>\n",
       "      <td>2022-01-05</td>\n",
       "      <td>55.84</td>\n",
       "      <td>56.44</td>\n",
       "      <td>55.37</td>\n",
       "      <td>55.63</td>\n",
       "      <td>52,956,422</td>\n",
       "    </tr>\n",
       "    <tr>\n",
       "      <th>249</th>\n",
       "      <td>2022-01-04</td>\n",
       "      <td>56.22</td>\n",
       "      <td>56.43</td>\n",
       "      <td>53.94</td>\n",
       "      <td>54.53</td>\n",
       "      <td>66,993,078</td>\n",
       "    </tr>\n",
       "    <tr>\n",
       "      <th>250</th>\n",
       "      <td>2022-01-03</td>\n",
       "      <td>58.50</td>\n",
       "      <td>58.55</td>\n",
       "      <td>56.34</td>\n",
       "      <td>56.65</td>\n",
       "      <td>57,253,152</td>\n",
       "    </tr>\n",
       "  </tbody>\n",
       "</table>\n",
       "<p>502 rows × 6 columns</p>\n",
       "</div>"
      ],
      "text/plain": [
       "          Date   Open   High    Low  Close      Volume\n",
       "0   2021-12-30  57.75  58.74  57.53  58.40  24,559,000\n",
       "1   2021-12-29  57.31  58.03  57.07  57.58  26,170,221\n",
       "2   2021-12-28  59.05  59.45  57.08  58.01  36,901,699\n",
       "3   2021-12-27  58.85  59.38  58.23  59.20  27,362,580\n",
       "4   2021-12-23  59.82  60.08  58.31  58.71  39,203,199\n",
       "..         ...    ...    ...    ...    ...         ...\n",
       "246 2022-01-07  55.36  55.77  54.63  55.72  27,703,369\n",
       "247 2022-01-06  55.16  55.63  54.49  54.84  37,000,391\n",
       "248 2022-01-05  55.84  56.44  55.37  55.63  52,956,422\n",
       "249 2022-01-04  56.22  56.43  53.94  54.53  66,993,078\n",
       "250 2022-01-03  58.50  58.55  56.34  56.65  57,253,152\n",
       "\n",
       "[502 rows x 6 columns]"
      ]
     },
     "execution_count": 6,
     "metadata": {},
     "output_type": "execute_result"
    }
   ],
   "source": [
    "merged_data"
   ]
  },
  {
   "cell_type": "code",
   "execution_count": 7,
   "metadata": {},
   "outputs": [],
   "source": [
    "# Set 'Date' as the index and sort by it\n",
    "merged_data.set_index('Date', inplace=True)\n",
    "merged_data.sort_index(inplace=True)"
   ]
  },
  {
   "cell_type": "code",
   "execution_count": 8,
   "metadata": {},
   "outputs": [],
   "source": [
    "# Resample the data to weekly frequency, aggregating 'Close' values by taking the mean for each week\n",
    "weekly_data = merged_data[['Close']].resample('W').mean()"
   ]
  },
  {
   "cell_type": "code",
   "execution_count": 9,
   "metadata": {},
   "outputs": [],
   "source": [
    "# Drop rows with all NaN values (in case there are weeks with no data)\n",
    "weekly_data.dropna(how='all', inplace=True)"
   ]
  },
  {
   "cell_type": "code",
   "execution_count": 10,
   "metadata": {},
   "outputs": [],
   "source": [
    "# Drop columns with all NaN values (in case one year has no data for some weeks)\n",
    "weekly_data.dropna(axis=1, how='all', inplace=True)"
   ]
  },
  {
   "cell_type": "code",
   "execution_count": 11,
   "metadata": {},
   "outputs": [
    {
     "data": {
      "text/html": [
       "<div>\n",
       "<style scoped>\n",
       "    .dataframe tbody tr th:only-of-type {\n",
       "        vertical-align: middle;\n",
       "    }\n",
       "\n",
       "    .dataframe tbody tr th {\n",
       "        vertical-align: top;\n",
       "    }\n",
       "\n",
       "    .dataframe thead th {\n",
       "        text-align: right;\n",
       "    }\n",
       "</style>\n",
       "<table border=\"1\" class=\"dataframe\">\n",
       "  <thead>\n",
       "    <tr style=\"text-align: right;\">\n",
       "      <th></th>\n",
       "      <th>Close</th>\n",
       "    </tr>\n",
       "    <tr>\n",
       "      <th>Date</th>\n",
       "      <th></th>\n",
       "    </tr>\n",
       "  </thead>\n",
       "  <tbody>\n",
       "    <tr>\n",
       "      <th>2021-01-10</th>\n",
       "      <td>37.012</td>\n",
       "    </tr>\n",
       "    <tr>\n",
       "      <th>2021-01-17</th>\n",
       "      <td>37.052</td>\n",
       "    </tr>\n",
       "    <tr>\n",
       "      <th>2021-01-24</th>\n",
       "      <td>36.565</td>\n",
       "    </tr>\n",
       "    <tr>\n",
       "      <th>2021-01-31</th>\n",
       "      <td>36.518</td>\n",
       "    </tr>\n",
       "    <tr>\n",
       "      <th>2021-02-07</th>\n",
       "      <td>35.088</td>\n",
       "    </tr>\n",
       "    <tr>\n",
       "      <th>...</th>\n",
       "      <td>...</td>\n",
       "    </tr>\n",
       "    <tr>\n",
       "      <th>2022-12-04</th>\n",
       "      <td>50.236</td>\n",
       "    </tr>\n",
       "    <tr>\n",
       "      <th>2022-12-11</th>\n",
       "      <td>50.836</td>\n",
       "    </tr>\n",
       "    <tr>\n",
       "      <th>2022-12-18</th>\n",
       "      <td>52.944</td>\n",
       "    </tr>\n",
       "    <tr>\n",
       "      <th>2022-12-25</th>\n",
       "      <td>51.562</td>\n",
       "    </tr>\n",
       "    <tr>\n",
       "      <th>2023-01-01</th>\n",
       "      <td>51.125</td>\n",
       "    </tr>\n",
       "  </tbody>\n",
       "</table>\n",
       "<p>104 rows × 1 columns</p>\n",
       "</div>"
      ],
      "text/plain": [
       "             Close\n",
       "Date              \n",
       "2021-01-10  37.012\n",
       "2021-01-17  37.052\n",
       "2021-01-24  36.565\n",
       "2021-01-31  36.518\n",
       "2021-02-07  35.088\n",
       "...            ...\n",
       "2022-12-04  50.236\n",
       "2022-12-11  50.836\n",
       "2022-12-18  52.944\n",
       "2022-12-25  51.562\n",
       "2023-01-01  51.125\n",
       "\n",
       "[104 rows x 1 columns]"
      ]
     },
     "execution_count": 11,
     "metadata": {},
     "output_type": "execute_result"
    }
   ],
   "source": [
    "weekly_data"
   ]
  },
  {
   "cell_type": "code",
   "execution_count": 12,
   "metadata": {},
   "outputs": [
    {
     "data": {
      "text/plain": [
       "<Axes: xlabel='Date'>"
      ]
     },
     "execution_count": 12,
     "metadata": {},
     "output_type": "execute_result"
    },
    {
     "data": {
      "image/png": "[encoded data removed]",
      "text/plain": [
       "<Figure size 640x480 with 1 Axes>"
      ]
     },
     "metadata": {},
     "output_type": "display_data"
    }
   ],
   "source": [
    "# Plotting the weekly average 'Close' prices\n",
    "weekly_data.plot()\n",
    "\n"
   ]
  },
  {
   "cell_type": "code",
   "execution_count": 13,
   "metadata": {},
   "outputs": [
    {
     "name": "stdout",
     "output_type": "stream",
     "text": [
      "Stored 'weekly_data' (DataFrame)\n"
     ]
    }
   ],
   "source": [
    "%store weekly_data"
   ]
  },
  {
   "cell_type": "code",
   "execution_count": 14,
   "metadata": {},
   "outputs": [],
   "source": [
    "%store -r weekly_data"
   ]
  }
 ],
 "metadata": {
  "kernelspec": {
   "display_name": "base",
   "language": "python",
   "name": "python3"
  },
  "language_info": {
   "codemirror_mode": {
    "name": "ipython",
    "version": 3
   },
   "file_extension": ".py",
   "mimetype": "text/x-python",
   "name": "python",
   "nbconvert_exporter": "python",
   "pygments_lexer": "ipython3",
   "version": "3.12.4"
  }
 },
 "nbformat": 4,
 "nbformat_minor": 2
}
